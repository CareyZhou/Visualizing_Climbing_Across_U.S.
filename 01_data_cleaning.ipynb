{
 "cells": [
  {
   "cell_type": "markdown",
   "metadata": {},
   "source": [
    "## 1. Create DataFrames"
   ]
  },
  {
   "cell_type": "code",
   "execution_count": 1,
   "metadata": {},
   "outputs": [
    {
     "name": "stdout",
     "output_type": "stream",
     "text": [
      "Loaded DataFrame: Sector_Addresses with shape (14031, 4)\n",
      "Loaded DataFrame: RouteQualityData with shape (96722, 19)\n",
      "Loaded DataFrame: Curated_OpenBetaAug2020_RytherAnderson with shape (168910, 17)\n",
      "Loaded DataFrame: All_Ratings with shape (1893162, 6)\n",
      "Loaded DataFrame: CuratedWithRatings_OpenBetaAug2020_RytherAnderson with shape (96963, 18)\n"
     ]
    }
   ],
   "source": [
    "import os\n",
    "import pandas as pd\n",
    "import zipfile\n",
    "\n",
    "# Base directory containing the subdirectories with .pkl.zip files\n",
    "base_directory = \"climbing-data-main\"\n",
    "\n",
    "# Dictionary to store DataFrames with their names\n",
    "dataframes = {}\n",
    "\n",
    "# Walk through the directory structure\n",
    "for root, _, files in os.walk(base_directory):\n",
    "    for filename in files:\n",
    "        if filename.endswith(\".pkl.zip\"):  # Check for .pkl.zip files\n",
    "            file_path = os.path.join(root, filename)\n",
    "            \n",
    "            # Extract the base name for the DataFrame (remove .pkl.zip)\n",
    "            df_name = os.path.splitext(os.path.splitext(filename)[0])[0]\n",
    "            \n",
    "            # Open the .pkl.zip file and load the pickle file into a DataFrame\n",
    "            with zipfile.ZipFile(file_path, 'r') as z:\n",
    "                with z.open(z.namelist()[0]) as f:\n",
    "                    dataframes[df_name] = pd.read_pickle(f)\n",
    "\n",
    "# Assign DataFrames dynamically as variables in globals()\n",
    "for df_name, df in dataframes.items():\n",
    "    globals()[df_name] = df\n",
    "    print(f\"Loaded DataFrame: {df_name} with shape {df.shape}\")\n",
    "\n"
   ]
  },
  {
   "cell_type": "code",
   "execution_count": 2,
   "metadata": {},
   "outputs": [
    {
     "name": "stdout",
     "output_type": "stream",
     "text": [
      "DataFrame: Sector_Addresses\n",
      "Columns:\n",
      "Index(['parent_sector', 'sector_ID', 'parent_loc', 'sector_address'], dtype='object')\n",
      "--------------------------------------------------\n",
      "DataFrame: RouteQualityData\n",
      "Columns:\n",
      "Index(['route_name', 'route_ID', 'type_string', 'sector_ID', 'parent_sector',\n",
      "       'parent_loc', 'num_votes', 'adjusted_num_votes', 'mean_rating',\n",
      "       'median_rating', 'mode_rating', 'RQI_mean', 'RQI_median', 'ARQI_mean',\n",
      "       'ARQI_median', 'nopm_YDS', 'YDS_rank', 'safety', 'state'],\n",
      "      dtype='object')\n",
      "--------------------------------------------------\n",
      "DataFrame: Curated_OpenBetaAug2020_RytherAnderson\n",
      "Columns:\n",
      "Index(['route_name', 'parent_sector', 'route_ID', 'sector_ID', 'type_string',\n",
      "       'fa', 'YDS', 'Vermin', 'nopm_YDS', 'nopm_Vermin', 'YDS_rank',\n",
      "       'Vermin_rank', 'safety', 'parent_loc', 'description', 'location',\n",
      "       'protection'],\n",
      "      dtype='object')\n",
      "--------------------------------------------------\n",
      "DataFrame: All_Ratings\n",
      "Columns:\n",
      "Index(['users', 'ratings', 'route_id', 'name', 'grade', 'type'], dtype='object')\n",
      "--------------------------------------------------\n",
      "DataFrame: CuratedWithRatings_OpenBetaAug2020_RytherAnderson\n",
      "Columns:\n",
      "Index(['route_name', 'parent_sector', 'route_ID', 'sector_ID', 'type_string',\n",
      "       'fa', 'YDS', 'Vermin', 'nopm_YDS', 'nopm_Vermin', 'YDS_rank',\n",
      "       'Vermin_rank', 'safety', 'parent_loc', 'description', 'location',\n",
      "       'protection', 'corrected_users_ratings'],\n",
      "      dtype='object')\n",
      "--------------------------------------------------\n"
     ]
    }
   ],
   "source": [
    "# Iterate over the dynamically loaded DataFrames and print their column names\n",
    "for df_name, df in dataframes.items():\n",
    "    print(f\"DataFrame: {df_name}\")\n",
    "    print(\"Columns:\")\n",
    "    # print(df.columns.tolist())\n",
    "    print(df.columns)\n",
    "    print(\"-\" * 50)  # Separator for readability\n"
   ]
  },
  {
   "cell_type": "markdown",
   "metadata": {},
   "source": [
    "## 2. Filtering Columns"
   ]
  },
  {
   "cell_type": "code",
   "execution_count": 3,
   "metadata": {},
   "outputs": [],
   "source": [
    "# Convert route_ID to string for all DataFrames\n",
    "Curated_OpenBetaAug2020_RytherAnderson['route_ID'] = Curated_OpenBetaAug2020_RytherAnderson['route_ID'].astype(str)\n",
    "RouteQualityData['route_ID'] = RouteQualityData['route_ID'].astype(str)\n",
    "All_Ratings['route_ID'] = All_Ratings['route_id'].astype(str)"
   ]
  },
  {
   "cell_type": "code",
   "execution_count": 4,
   "metadata": {},
   "outputs": [],
   "source": [
    "# calculate the mean rating for each route\n",
    "ratings_agg = All_Ratings.groupby('route_ID')['ratings'].mean().reset_index()"
   ]
  },
  {
   "cell_type": "code",
   "execution_count": 5,
   "metadata": {},
   "outputs": [],
   "source": [
    "# seperate log and lat from the location column\n",
    "Sector_Addresses[['Latitude', 'Longitude']] = pd.DataFrame(Sector_Addresses['parent_loc'].tolist(), index=Sector_Addresses.index)\n",
    "\n",
    "# Convert latitude and longitude to float for further processing\n",
    "Sector_Addresses['Latitude'] = Sector_Addresses['Latitude'].astype(float)\n",
    "Sector_Addresses['Longitude'] = Sector_Addresses['Longitude'].astype(float)"
   ]
  },
  {
   "cell_type": "code",
   "execution_count": 6,
   "metadata": {},
   "outputs": [],
   "source": [
    "# Filter useful columns from each DataFrame\n",
    "Sector_Addresses_filtered = Sector_Addresses[['sector_ID', 'parent_sector', 'Latitude', 'Longitude']]\n",
    "RouteQualityData_filtered = RouteQualityData[['route_ID', 'num_votes', 'state', 'RQI_mean']]\n",
    "Curated_OpenBetaAug2020_filtered = Curated_OpenBetaAug2020_RytherAnderson[['route_ID', 'route_name', 'type_string', 'sector_ID', 'YDS', 'description', 'protection']]\n",
    "All_Ratings_filtered = ratings_agg[['route_ID', 'ratings']]"
   ]
  },
  {
   "cell_type": "markdown",
   "metadata": {},
   "source": [
    "## 3. Merge DataFrames"
   ]
  },
  {
   "cell_type": "code",
   "execution_count": 7,
   "metadata": {},
   "outputs": [],
   "source": [
    "# Step 1: Merge Curated_OpenBetaAug2020 with RouteQualityData\n",
    "merged_df = pd.merge(\n",
    "    Curated_OpenBetaAug2020_filtered,\n",
    "    RouteQualityData_filtered,\n",
    "    on=\"route_ID\",\n",
    "    how=\"inner\"\n",
    ")\n",
    "\n",
    "# Step 2: Merge with Sector_Addresses\n",
    "merged_df = pd.merge(\n",
    "    merged_df,\n",
    "    Sector_Addresses_filtered,\n",
    "    on=\"sector_ID\",\n",
    "    how=\"inner\"\n",
    ")\n",
    "\n",
    "# Step 3: Merge with All_Ratings\n",
    "final_merged_df = pd.merge(\n",
    "    merged_df,\n",
    "    All_Ratings_filtered,\n",
    "    on=\"route_ID\",\n",
    "    how=\"left\"\n",
    ")\n"
   ]
  },
  {
   "cell_type": "code",
   "execution_count": 8,
   "metadata": {},
   "outputs": [],
   "source": [
    "# Rename columns for better readability\n",
    "cleaned_df = final_merged_df.rename(columns={\n",
    "    'route_ID': 'Route_ID',\n",
    "    'route_name': 'Route_Name',\n",
    "    'sector_ID': 'Sector_ID',\n",
    "    'YDS': 'Grade(YDS)',\n",
    "    'description': 'Route_Description',\n",
    "    'protection': 'Protection_Type',\n",
    "    'num_votes': 'Popularity_Votes',\n",
    "    'state': 'State',\n",
    "    'RQI_mean': 'Route_Quality_Mean',\n",
    "    'parent_sector': 'Region/Area',\n",
    "    'ratings': 'Average_Rating',\n",
    "    'type_string': 'Route_Type'\n",
    "})\n",
    "\n",
    "# Convert columns to correct data types\n",
    "cleaned_df = cleaned_df.astype({\n",
    "    'Route_ID': 'str',\n",
    "    'Route_Name': 'str',\n",
    "    'Sector_ID': 'str',\n",
    "    'Grade(YDS)': 'str',\n",
    "    'Route_Description': 'str',\n",
    "    'Protection_Type': 'str',\n",
    "    'State': 'str',\n",
    "    'Region/Area': 'str',\n",
    "    \"Popularity_Votes\": 'int'\n",
    "})"
   ]
  },
  {
   "cell_type": "markdown",
   "metadata": {},
   "source": [
    "## 4. Data Cleaning"
   ]
  },
  {
   "cell_type": "code",
   "execution_count": 9,
   "metadata": {},
   "outputs": [
    {
     "data": {
      "text/plain": [
       "array(['5.7', '5.0', '5.7+', '5.8', '5.10b', '5.10a', '5.12a', '5.11d',\n",
       "       '5.12b/c', '5.12d', '5.10c', '5.11b', '5.11c', '5.6', '5.9',\n",
       "       '5.12b', '5.10d', '5.11a', '5.11a/b', '5.8+', '5.8-', '5.12-',\n",
       "       '5.11b/c', '5.12a/b', '5.4', '5.10', '5.10+', '5.13b', '5.13a',\n",
       "       '5.14a/b', '5.12c', '5.11+', '5.12+', '5.12', '5.10-', '5.13c',\n",
       "       '5.13+', '5.9-', '5.11c/d', '5.9+', '5.10b/c', '5.11', '5.10c/d',\n",
       "       '5.13', '5.13d', '5.10a/b', '5.3', '5.5', '5.2', '5.12c/d',\n",
       "       '5.11-', '5.13-', '5.14-', '5.13b/c', '5.13a/b', '5.15+', '5.14b',\n",
       "       '5.13c/d', '5.14a', '5.1', '5.14c', '5.14', '5.15a', '5.14c/d',\n",
       "       '5.14b/c', '5.14+', '5.14d', '5.15', '5.15c/d'], dtype=object)"
      ]
     },
     "execution_count": 9,
     "metadata": {},
     "output_type": "execute_result"
    }
   ],
   "source": [
    "# Check unique values for specific columns\n",
    "unique_grade = cleaned_df['Grade(YDS)'].unique()\n",
    "unique_grade"
   ]
  },
  {
   "cell_type": "code",
   "execution_count": 10,
   "metadata": {},
   "outputs": [],
   "source": [
    "# Function to categorize grades\n",
    "def categorize_grade(grade):\n",
    "    # Extract the numeric part of the grade (ignore letters and +/−)\n",
    "    base_grade = float(grade.split('.')[1].split('-')[0].split('+')[0].split('a')[0].split('b')[0].split('c')[0].split('d')[0])\n",
    "    if base_grade <= 9:\n",
    "        return 'Beginner'\n",
    "    elif 10 <= base_grade <= 11:\n",
    "        return 'Intermediate'\n",
    "    elif 12 <= base_grade <= 13:\n",
    "        return 'Advanced'\n",
    "    elif 14 <= base_grade <= 15:\n",
    "        return 'Pro'\n",
    "    else:\n",
    "        return 'Unknown'\n",
    "\n",
    "cleaned_df['Category'] = cleaned_df['Grade(YDS)'].apply(categorize_grade)"
   ]
  },
  {
   "cell_type": "code",
   "execution_count": 11,
   "metadata": {},
   "outputs": [],
   "source": [
    "# Exclude rows where 'State' is 'Baja California'\n",
    "cleaned_df = cleaned_df[cleaned_df['State'] != 'Baja California']\n",
    "\n",
    "# Reset the index for better readability (optional)\n",
    "cleaned_df = cleaned_df.reset_index(drop=True)"
   ]
  },
  {
   "cell_type": "code",
   "execution_count": 12,
   "metadata": {},
   "outputs": [],
   "source": [
    "state_abbreviations = {\n",
    "    'Iowa': 'IA',\n",
    "    'Illinois': 'IL',\n",
    "    'Indiana': 'IN',\n",
    "    'Kansas': 'KS',\n",
    "    'Michigan': 'MI',\n",
    "    'Minnesota': 'MN',\n",
    "    'Wisconsin': 'WI',\n",
    "    'Ontario': 'ON',\n",
    "    'Missouri': 'MO',\n",
    "    'North Dakota': 'ND',\n",
    "    'Ohio': 'OH',\n",
    "    'South Dakota': 'SD',\n",
    "    'Colorado': 'CO',\n",
    "    'Wyoming': 'WY',\n",
    "    'California': 'CA',\n",
    "    'New Mexico': 'NM',\n",
    "    'Utah': 'UT',\n",
    "    'Arizona': 'AZ',\n",
    "    'Idaho': 'ID',\n",
    "    'Washington': 'WA',\n",
    "    'Nevada': 'NV',\n",
    "    'Connecticut': 'CT',\n",
    "    'Massachusetts': 'MA',\n",
    "    'Maine': 'ME',\n",
    "    'New Hampshire': 'NH',\n",
    "    'New Jersey': 'NJ',\n",
    "    'New York': 'NY',\n",
    "    'Pennsylvania': 'PA',\n",
    "    'Rhode Island': 'RI',\n",
    "    'Vermont': 'VT',\n",
    "    'Alabama': 'AL',\n",
    "    'Arkansas': 'AR',\n",
    "    'Delaware': 'DE',\n",
    "    'Georgia': 'GA',\n",
    "    'Kentucky': 'KY',\n",
    "    'Maryland': 'MD',\n",
    "    'West Virginia': 'WV',\n",
    "    'Virginia': 'VA',\n",
    "    'North Carolina': 'NC',\n",
    "    'Oklahoma': 'OK',\n",
    "    'South Carolina': 'SC',\n",
    "    'Tennessee': 'TN',\n",
    "    'Texas': 'TX',\n",
    "    'Oregon': 'OR'\n",
    "}\n",
    "\n",
    "# Replace state names with abbreviations in the 'State' column\n",
    "cleaned_df['State'] = cleaned_df['State'].map(state_abbreviations)"
   ]
  },
  {
   "cell_type": "code",
   "execution_count": 13,
   "metadata": {},
   "outputs": [],
   "source": [
    "# Remove square brackets and quotes from 'Route_Description' and 'Protection_Type'\n",
    "cleaned_df['Route_Description'] = cleaned_df['Route_Description'].str.strip(\"[]'\\\"\")\n",
    "cleaned_df['Protection_Type'] = cleaned_df['Protection_Type'].str.strip(\"[]'\\\"\")\n"
   ]
  },
  {
   "cell_type": "code",
   "execution_count": 14,
   "metadata": {},
   "outputs": [],
   "source": [
    "# For NLP tasks\n",
    "cleaned_df['Features'] = 'N/A'"
   ]
  },
  {
   "cell_type": "code",
   "execution_count": 15,
   "metadata": {},
   "outputs": [
    {
     "data": {
      "text/html": [
       "<div>\n",
       "<style scoped>\n",
       "    .dataframe tbody tr th:only-of-type {\n",
       "        vertical-align: middle;\n",
       "    }\n",
       "\n",
       "    .dataframe tbody tr th {\n",
       "        vertical-align: top;\n",
       "    }\n",
       "\n",
       "    .dataframe thead th {\n",
       "        text-align: right;\n",
       "    }\n",
       "</style>\n",
       "<table border=\"1\" class=\"dataframe\">\n",
       "  <thead>\n",
       "    <tr style=\"text-align: right;\">\n",
       "      <th></th>\n",
       "      <th>Route_ID</th>\n",
       "      <th>Route_Name</th>\n",
       "      <th>Route_Type</th>\n",
       "      <th>Sector_ID</th>\n",
       "      <th>Grade(YDS)</th>\n",
       "      <th>Route_Description</th>\n",
       "      <th>Protection_Type</th>\n",
       "      <th>Popularity_Votes</th>\n",
       "      <th>State</th>\n",
       "      <th>Route_Quality_Mean</th>\n",
       "      <th>Region/Area</th>\n",
       "      <th>Latitude</th>\n",
       "      <th>Longitude</th>\n",
       "      <th>Average_Rating</th>\n",
       "      <th>Category</th>\n",
       "      <th>Features</th>\n",
       "    </tr>\n",
       "  </thead>\n",
       "  <tbody>\n",
       "    <tr>\n",
       "      <th>0</th>\n",
       "      <td>106956280</td>\n",
       "      <td>Stairway to Heaven</td>\n",
       "      <td>trad</td>\n",
       "      <td>106947227</td>\n",
       "      <td>5.7</td>\n",
       "      <td>Climb the large flake right of Slot Machine to...</td>\n",
       "      <td>SR, tricams are handy.</td>\n",
       "      <td>10</td>\n",
       "      <td>IA</td>\n",
       "      <td>2.340000</td>\n",
       "      <td>Drive In Wall</td>\n",
       "      <td>-91.5625</td>\n",
       "      <td>42.614</td>\n",
       "      <td>2.600000</td>\n",
       "      <td>Beginner</td>\n",
       "      <td>N/A</td>\n",
       "    </tr>\n",
       "    <tr>\n",
       "      <th>1</th>\n",
       "      <td>106956306</td>\n",
       "      <td>Cake Walk</td>\n",
       "      <td>trad</td>\n",
       "      <td>106947239</td>\n",
       "      <td>5.0</td>\n",
       "      <td>Obvious chimney half way up the gully.  Severa...</td>\n",
       "      <td>SR</td>\n",
       "      <td>2</td>\n",
       "      <td>IA</td>\n",
       "      <td>1.000000</td>\n",
       "      <td>Cake Walk and Razor Wall</td>\n",
       "      <td>-91.5625</td>\n",
       "      <td>42.614</td>\n",
       "      <td>2.000000</td>\n",
       "      <td>Beginner</td>\n",
       "      <td>N/A</td>\n",
       "    </tr>\n",
       "    <tr>\n",
       "      <th>2</th>\n",
       "      <td>106956299</td>\n",
       "      <td>Spinal Tap</td>\n",
       "      <td>trad</td>\n",
       "      <td>106947227</td>\n",
       "      <td>5.7+</td>\n",
       "      <td>Vertical hand crack to the right of Stairway t...</td>\n",
       "      <td>SR</td>\n",
       "      <td>4</td>\n",
       "      <td>IA</td>\n",
       "      <td>1.500000</td>\n",
       "      <td>Drive In Wall</td>\n",
       "      <td>-91.5625</td>\n",
       "      <td>42.614</td>\n",
       "      <td>2.000000</td>\n",
       "      <td>Beginner</td>\n",
       "      <td>N/A</td>\n",
       "    </tr>\n",
       "    <tr>\n",
       "      <th>3</th>\n",
       "      <td>106956271</td>\n",
       "      <td>Slot Machine</td>\n",
       "      <td>trad</td>\n",
       "      <td>106947227</td>\n",
       "      <td>5.8</td>\n",
       "      <td>Large off-width/squeeze chimney in the center ...</td>\n",
       "      <td>SR, there is a chock stone about half way up y...</td>\n",
       "      <td>14</td>\n",
       "      <td>IA</td>\n",
       "      <td>2.387755</td>\n",
       "      <td>Drive In Wall</td>\n",
       "      <td>-91.5625</td>\n",
       "      <td>42.614</td>\n",
       "      <td>2.571429</td>\n",
       "      <td>Beginner</td>\n",
       "      <td>N/A</td>\n",
       "    </tr>\n",
       "    <tr>\n",
       "      <th>4</th>\n",
       "      <td>106956212</td>\n",
       "      <td>Lefty and Poncho</td>\n",
       "      <td>trad</td>\n",
       "      <td>106947227</td>\n",
       "      <td>5.10b</td>\n",
       "      <td>Diagonal hand crack that starts on the left si...</td>\n",
       "      <td>SR, upper head wall not protected.</td>\n",
       "      <td>1</td>\n",
       "      <td>IA</td>\n",
       "      <td>0.000000</td>\n",
       "      <td>Drive In Wall</td>\n",
       "      <td>-91.5625</td>\n",
       "      <td>42.614</td>\n",
       "      <td>2.000000</td>\n",
       "      <td>Intermediate</td>\n",
       "      <td>N/A</td>\n",
       "    </tr>\n",
       "  </tbody>\n",
       "</table>\n",
       "</div>"
      ],
      "text/plain": [
       "    Route_ID          Route_Name Route_Type  Sector_ID Grade(YDS)  \\\n",
       "0  106956280  Stairway to Heaven       trad  106947227        5.7   \n",
       "1  106956306           Cake Walk       trad  106947239        5.0   \n",
       "2  106956299          Spinal Tap       trad  106947227       5.7+   \n",
       "3  106956271        Slot Machine       trad  106947227        5.8   \n",
       "4  106956212    Lefty and Poncho       trad  106947227      5.10b   \n",
       "\n",
       "                                   Route_Description  \\\n",
       "0  Climb the large flake right of Slot Machine to...   \n",
       "1  Obvious chimney half way up the gully.  Severa...   \n",
       "2  Vertical hand crack to the right of Stairway t...   \n",
       "3  Large off-width/squeeze chimney in the center ...   \n",
       "4  Diagonal hand crack that starts on the left si...   \n",
       "\n",
       "                                     Protection_Type  Popularity_Votes State  \\\n",
       "0                             SR, tricams are handy.                10    IA   \n",
       "1                                                 SR                 2    IA   \n",
       "2                                                 SR                 4    IA   \n",
       "3  SR, there is a chock stone about half way up y...                14    IA   \n",
       "4                 SR, upper head wall not protected.                 1    IA   \n",
       "\n",
       "   Route_Quality_Mean               Region/Area  Latitude  Longitude  \\\n",
       "0            2.340000             Drive In Wall  -91.5625     42.614   \n",
       "1            1.000000  Cake Walk and Razor Wall  -91.5625     42.614   \n",
       "2            1.500000             Drive In Wall  -91.5625     42.614   \n",
       "3            2.387755             Drive In Wall  -91.5625     42.614   \n",
       "4            0.000000             Drive In Wall  -91.5625     42.614   \n",
       "\n",
       "   Average_Rating      Category Features  \n",
       "0        2.600000      Beginner      N/A  \n",
       "1        2.000000      Beginner      N/A  \n",
       "2        2.000000      Beginner      N/A  \n",
       "3        2.571429      Beginner      N/A  \n",
       "4        2.000000  Intermediate      N/A  "
      ]
     },
     "execution_count": 15,
     "metadata": {},
     "output_type": "execute_result"
    }
   ],
   "source": [
    "cleaned_df.head()\n"
   ]
  },
  {
   "cell_type": "markdown",
   "metadata": {},
   "source": [
    "## 5. Output into CSV"
   ]
  },
  {
   "cell_type": "code",
   "execution_count": 16,
   "metadata": {},
   "outputs": [
    {
     "name": "stdout",
     "output_type": "stream",
     "text": [
      "DataFrame successfully saved to 'cleaned_data.csv'\n"
     ]
    }
   ],
   "source": [
    "# Define the output file name\n",
    "output_file = \"cleaned_data.csv\"\n",
    "\n",
    "# Export the DataFrame to a CSV file\n",
    "cleaned_df.to_csv(output_file, index=False)\n",
    "\n",
    "# Confirmation message\n",
    "print(f\"DataFrame successfully saved to '{output_file}'\")\n"
   ]
  }
 ],
 "metadata": {
  "kernelspec": {
   "display_name": "Python 3",
   "language": "python",
   "name": "python3"
  },
  "language_info": {
   "codemirror_mode": {
    "name": "ipython",
    "version": 3
   },
   "file_extension": ".py",
   "mimetype": "text/x-python",
   "name": "python",
   "nbconvert_exporter": "python",
   "pygments_lexer": "ipython3",
   "version": "3.12.1"
  }
 },
 "nbformat": 4,
 "nbformat_minor": 2
}
